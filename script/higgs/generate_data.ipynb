{
 "cells": [
  {
   "cell_type": "code",
   "execution_count": 1,
   "id": "30bad052",
   "metadata": {},
   "outputs": [],
   "source": [
    "%load_ext autoreload\n",
    "%autoreload 2"
   ]
  },
  {
   "cell_type": "code",
   "execution_count": 2,
   "id": "e96a9824",
   "metadata": {},
   "outputs": [],
   "source": [
    "import configparser\n",
    "import numpy as np\n",
    "import torch\n",
    "import matplotlib.pyplot as plt\n",
    "from lfibm.simulator.higgs import HiggsSimulator"
   ]
  },
  {
   "cell_type": "code",
   "execution_count": 3,
   "id": "28f106e8",
   "metadata": {},
   "outputs": [],
   "source": [
    "config = configparser.ConfigParser()\n",
    "config.read(\"assets/config.ini\")\n",
    "DATA_DIR = config[\"DEFAULT\"][\"DataDir\"]"
   ]
  },
  {
   "cell_type": "code",
   "execution_count": 4,
   "id": "99976d97",
   "metadata": {},
   "outputs": [
    {
     "name": "stderr",
     "output_type": "stream",
     "text": [
      "2025-09-22 15:12:25,321 - hep_challenge.datasets - WARNING  - Metadata file not found. Proceeding without metadata.\n",
      "2025-09-22 15:12:25,322 - hep_challenge.datasets - INFO     - Total rows: 1000\n",
      "2025-09-22 15:12:25,322 - hep_challenge.datasets - INFO     - Test size: 10\n",
      "2025-09-22 15:12:25,332 - hep_challenge.datasets - INFO     - Data loaded successfully\n",
      "2025-09-22 15:12:25,338 - hep_challenge.datasets - INFO     - Test data loaded successfully\n"
     ]
    }
   ],
   "source": [
    "simulator = HiggsSimulator(input_dir=f'{DATA_DIR}', default_observable='PRI_had_pt')"
   ]
  },
  {
   "cell_type": "code",
   "execution_count": 5,
   "id": "bce054de",
   "metadata": {},
   "outputs": [
    {
     "name": "stderr",
     "output_type": "stream",
     "text": [
      "Sampling likelihood: 100%|██████████| 516/516 [00:02<00:00, 186.29it/s]\n",
      "Sampling likelihood: 100%|██████████| 484/484 [00:00<00:00, 909.60it/s]\n"
     ]
    },
    {
     "data": {
      "text/plain": [
       "(torch.Size([1000]), torch.Size([1000, 7]), torch.Size([1000, 1000]))"
      ]
     },
     "execution_count": 5,
     "metadata": {},
     "output_type": "execute_result"
    }
   ],
   "source": [
    "# Check for errors\n",
    "Y, params, samples = simulator.simulate(size=1_000)\n",
    "Y.shape, params.shape, samples.shape"
   ]
  }
 ],
 "metadata": {
  "kernelspec": {
   "display_name": "lfi_benchmark",
   "language": "python",
   "name": "python3"
  },
  "language_info": {
   "codemirror_mode": {
    "name": "ipython",
    "version": 3
   },
   "file_extension": ".py",
   "mimetype": "text/x-python",
   "name": "python",
   "nbconvert_exporter": "python",
   "pygments_lexer": "ipython3",
   "version": "3.9.23"
  }
 },
 "nbformat": 4,
 "nbformat_minor": 5
}
